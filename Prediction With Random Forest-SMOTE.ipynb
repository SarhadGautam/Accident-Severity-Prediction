{
 "cells": [
  {
   "cell_type": "code",
   "execution_count": 1,
   "id": "2e3ffd83",
   "metadata": {},
   "outputs": [],
   "source": [
    "import numpy as np\n",
    "import pandas as pd\n",
    "import matplotlib.pyplot as plt\n",
    "import datetime as dt\n",
    "%matplotlib inline\n",
    "import seaborn as sns\n",
    "from sklearn import preprocessing\n",
    "#split into train and test\n",
    "from sklearn.model_selection import train_test_split\n",
    "from sklearn.ensemble import RandomForestClassifier\n",
    "from sklearn import metrics\n",
    "\n",
    "from imblearn.under_sampling import EditedNearestNeighbours\n",
    "from imblearn.over_sampling import SMOTE\n",
    "from imblearn.combine import SMOTEENN\n",
    "\n",
    "from sklearn.metrics import (\n",
    "    accuracy_score,\n",
    "    balanced_accuracy_score,\n",
    "    recall_score,\n",
    "    confusion_matrix,\n",
    "    classification_report\n",
    ")\n",
    "\n",
    "import warnings\n",
    "warnings.filterwarnings(\"ignore\")\n",
    "plt.rcParams[\"figure.autolayout\"] = True"
   ]
  },
  {
   "cell_type": "code",
   "execution_count": 2,
   "id": "a4e3e154",
   "metadata": {},
   "outputs": [
    {
     "data": {
      "text/html": [
       "<div>\n",
       "<style scoped>\n",
       "    .dataframe tbody tr th:only-of-type {\n",
       "        vertical-align: middle;\n",
       "    }\n",
       "\n",
       "    .dataframe tbody tr th {\n",
       "        vertical-align: top;\n",
       "    }\n",
       "\n",
       "    .dataframe thead th {\n",
       "        text-align: right;\n",
       "    }\n",
       "</style>\n",
       "<table border=\"1\" class=\"dataframe\">\n",
       "  <thead>\n",
       "    <tr style=\"text-align: right;\">\n",
       "      <th></th>\n",
       "      <th>Accident_Index</th>\n",
       "      <th>1st_Road_Class</th>\n",
       "      <th>1st_Road_Number</th>\n",
       "      <th>2nd_Road_Class</th>\n",
       "      <th>2nd_Road_Number</th>\n",
       "      <th>Accident_Severity</th>\n",
       "      <th>Carriageway_Hazards</th>\n",
       "      <th>Date</th>\n",
       "      <th>Day_of_Week</th>\n",
       "      <th>Did_Police_Officer_Attend_Scene_of_Accident</th>\n",
       "      <th>...</th>\n",
       "      <th>Police_Force</th>\n",
       "      <th>Road_Surface_Conditions</th>\n",
       "      <th>Road_Type</th>\n",
       "      <th>Special_Conditions_at_Site</th>\n",
       "      <th>Speed_limit</th>\n",
       "      <th>Time</th>\n",
       "      <th>Urban_or_Rural_Area</th>\n",
       "      <th>Weather_Conditions</th>\n",
       "      <th>Year</th>\n",
       "      <th>InScotland</th>\n",
       "    </tr>\n",
       "  </thead>\n",
       "  <tbody>\n",
       "    <tr>\n",
       "      <th>27261</th>\n",
       "      <td>2.00503E+12</td>\n",
       "      <td>A</td>\n",
       "      <td>591.0</td>\n",
       "      <td>NaN</td>\n",
       "      <td>0.0</td>\n",
       "      <td>Slight</td>\n",
       "      <td>None</td>\n",
       "      <td>08/04/2005</td>\n",
       "      <td>Friday</td>\n",
       "      <td>1.0</td>\n",
       "      <td>...</td>\n",
       "      <td>Cumbria</td>\n",
       "      <td>Dry</td>\n",
       "      <td>Single carriageway</td>\n",
       "      <td>None</td>\n",
       "      <td>60</td>\n",
       "      <td>16:39</td>\n",
       "      <td>Rural</td>\n",
       "      <td>Fine no high winds</td>\n",
       "      <td>2005</td>\n",
       "      <td>No</td>\n",
       "    </tr>\n",
       "    <tr>\n",
       "      <th>28085</th>\n",
       "      <td>2.00503E+12</td>\n",
       "      <td>NaN</td>\n",
       "      <td>0.0</td>\n",
       "      <td>NaN</td>\n",
       "      <td>0.0</td>\n",
       "      <td>Slight</td>\n",
       "      <td>None</td>\n",
       "      <td>01/09/2005</td>\n",
       "      <td>Thursday</td>\n",
       "      <td>2.0</td>\n",
       "      <td>...</td>\n",
       "      <td>Cumbria</td>\n",
       "      <td>Dry</td>\n",
       "      <td>Single carriageway</td>\n",
       "      <td>None</td>\n",
       "      <td>60</td>\n",
       "      <td>14:15</td>\n",
       "      <td>Rural</td>\n",
       "      <td>Fine no high winds</td>\n",
       "      <td>2005</td>\n",
       "      <td>No</td>\n",
       "    </tr>\n",
       "    <tr>\n",
       "      <th>28084</th>\n",
       "      <td>2.00503E+12</td>\n",
       "      <td>A</td>\n",
       "      <td>6.0</td>\n",
       "      <td>A</td>\n",
       "      <td>590.0</td>\n",
       "      <td>Slight</td>\n",
       "      <td>None</td>\n",
       "      <td>18/09/2005</td>\n",
       "      <td>Sunday</td>\n",
       "      <td>1.0</td>\n",
       "      <td>...</td>\n",
       "      <td>Cumbria</td>\n",
       "      <td>Wet or damp</td>\n",
       "      <td>Single carriageway</td>\n",
       "      <td>None</td>\n",
       "      <td>60</td>\n",
       "      <td>00:20</td>\n",
       "      <td>Rural</td>\n",
       "      <td>Other</td>\n",
       "      <td>2005</td>\n",
       "      <td>No</td>\n",
       "    </tr>\n",
       "    <tr>\n",
       "      <th>28083</th>\n",
       "      <td>2.00503E+12</td>\n",
       "      <td>A</td>\n",
       "      <td>591.0</td>\n",
       "      <td>Unclassified</td>\n",
       "      <td>0.0</td>\n",
       "      <td>Slight</td>\n",
       "      <td>None</td>\n",
       "      <td>19/09/2005</td>\n",
       "      <td>Monday</td>\n",
       "      <td>1.0</td>\n",
       "      <td>...</td>\n",
       "      <td>Cumbria</td>\n",
       "      <td>Dry</td>\n",
       "      <td>Dual carriageway</td>\n",
       "      <td>None</td>\n",
       "      <td>70</td>\n",
       "      <td>15:50</td>\n",
       "      <td>Rural</td>\n",
       "      <td>Fine no high winds</td>\n",
       "      <td>2005</td>\n",
       "      <td>No</td>\n",
       "    </tr>\n",
       "    <tr>\n",
       "      <th>28082</th>\n",
       "      <td>2.00503E+12</td>\n",
       "      <td>A</td>\n",
       "      <td>69.0</td>\n",
       "      <td>NaN</td>\n",
       "      <td>0.0</td>\n",
       "      <td>Slight</td>\n",
       "      <td>None</td>\n",
       "      <td>15/09/2005</td>\n",
       "      <td>Thursday</td>\n",
       "      <td>1.0</td>\n",
       "      <td>...</td>\n",
       "      <td>Cumbria</td>\n",
       "      <td>Wet or damp</td>\n",
       "      <td>Single carriageway</td>\n",
       "      <td>None</td>\n",
       "      <td>60</td>\n",
       "      <td>09:17</td>\n",
       "      <td>Rural</td>\n",
       "      <td>Raining no high winds</td>\n",
       "      <td>2005</td>\n",
       "      <td>No</td>\n",
       "    </tr>\n",
       "  </tbody>\n",
       "</table>\n",
       "<p>5 rows × 34 columns</p>\n",
       "</div>"
      ],
      "text/plain": [
       "      Accident_Index 1st_Road_Class  1st_Road_Number 2nd_Road_Class  \\\n",
       "27261    2.00503E+12              A            591.0            NaN   \n",
       "28085    2.00503E+12            NaN              0.0            NaN   \n",
       "28084    2.00503E+12              A              6.0              A   \n",
       "28083    2.00503E+12              A            591.0   Unclassified   \n",
       "28082    2.00503E+12              A             69.0            NaN   \n",
       "\n",
       "       2nd_Road_Number Accident_Severity Carriageway_Hazards        Date  \\\n",
       "27261              0.0            Slight                None  08/04/2005   \n",
       "28085              0.0            Slight                None  01/09/2005   \n",
       "28084            590.0            Slight                None  18/09/2005   \n",
       "28083              0.0            Slight                None  19/09/2005   \n",
       "28082              0.0            Slight                None  15/09/2005   \n",
       "\n",
       "      Day_of_Week  Did_Police_Officer_Attend_Scene_of_Accident  ...  \\\n",
       "27261      Friday                                          1.0  ...   \n",
       "28085    Thursday                                          2.0  ...   \n",
       "28084      Sunday                                          1.0  ...   \n",
       "28083      Monday                                          1.0  ...   \n",
       "28082    Thursday                                          1.0  ...   \n",
       "\n",
       "      Police_Force Road_Surface_Conditions           Road_Type  \\\n",
       "27261      Cumbria                     Dry  Single carriageway   \n",
       "28085      Cumbria                     Dry  Single carriageway   \n",
       "28084      Cumbria             Wet or damp  Single carriageway   \n",
       "28083      Cumbria                     Dry    Dual carriageway   \n",
       "28082      Cumbria             Wet or damp  Single carriageway   \n",
       "\n",
       "      Special_Conditions_at_Site Speed_limit   Time  Urban_or_Rural_Area  \\\n",
       "27261                       None          60  16:39                Rural   \n",
       "28085                       None          60  14:15                Rural   \n",
       "28084                       None          60  00:20                Rural   \n",
       "28083                       None          70  15:50                Rural   \n",
       "28082                       None          60  09:17                Rural   \n",
       "\n",
       "          Weather_Conditions  Year InScotland  \n",
       "27261     Fine no high winds  2005         No  \n",
       "28085     Fine no high winds  2005         No  \n",
       "28084                  Other  2005         No  \n",
       "28083     Fine no high winds  2005         No  \n",
       "28082  Raining no high winds  2005         No  \n",
       "\n",
       "[5 rows x 34 columns]"
      ]
     },
     "execution_count": 2,
     "metadata": {},
     "output_type": "execute_result"
    }
   ],
   "source": [
    "accident_data = pd.read_csv('accident_data.csv',encoding = \"ISO-8859-1\").sort_values(by='Accident_Index')\n",
    "accident_data.head()"
   ]
  },
  {
   "cell_type": "code",
   "execution_count": 3,
   "id": "98e3abbc",
   "metadata": {},
   "outputs": [
    {
     "name": "stdout",
     "output_type": "stream",
     "text": [
      "<class 'pandas.core.frame.DataFrame'>\n",
      "Int64Index: 1048575 entries, 27261 to 1048574\n",
      "Data columns (total 34 columns):\n",
      " #   Column                                       Non-Null Count    Dtype  \n",
      "---  ------                                       --------------    -----  \n",
      " 0   Accident_Index                               1048575 non-null  object \n",
      " 1   1st_Road_Class                               742986 non-null   object \n",
      " 2   1st_Road_Number                              1048573 non-null  float64\n",
      " 3   2nd_Road_Class                               608751 non-null   object \n",
      " 4   2nd_Road_Number                              1037772 non-null  float64\n",
      " 5   Accident_Severity                            1048575 non-null  object \n",
      " 6   Carriageway_Hazards                          1048546 non-null  object \n",
      " 7   Date                                         1048575 non-null  object \n",
      " 8   Day_of_Week                                  1048575 non-null  object \n",
      " 9   Did_Police_Officer_Attend_Scene_of_Accident  1048306 non-null  float64\n",
      " 10  Junction_Control                             1048575 non-null  object \n",
      " 11  Junction_Detail                              1048575 non-null  object \n",
      " 12  Latitude                                     1048464 non-null  float64\n",
      " 13  Light_Conditions                             1046491 non-null  object \n",
      " 14  Local_Authority_(District)                   1048575 non-null  object \n",
      " 15  Local_Authority_(Highway)                    1048575 non-null  object \n",
      " 16  Location_Easting_OSGR                        1048464 non-null  float64\n",
      " 17  Location_Northing_OSGR                       1048464 non-null  float64\n",
      " 18  Longitude                                    1048463 non-null  float64\n",
      " 19  LSOA_of_Accident_Location                    976685 non-null   object \n",
      " 20  Number_of_Casualties                         1048575 non-null  int64  \n",
      " 21  Number_of_Vehicles                           1048575 non-null  int64  \n",
      " 22  Pedestrian_Crossing-Human_Control            1048554 non-null  float64\n",
      " 23  Pedestrian_Crossing-Physical_Facilities      1048538 non-null  float64\n",
      " 24  Police_Force                                 1048575 non-null  object \n",
      " 25  Road_Surface_Conditions                      1047386 non-null  object \n",
      " 26  Road_Type                                    1041309 non-null  object \n",
      " 27  Special_Conditions_at_Site                   1048559 non-null  object \n",
      " 28  Speed_limit                                  1048575 non-null  int64  \n",
      " 29  Time                                         1048475 non-null  object \n",
      " 30  Urban_or_Rural_Area                          1048490 non-null  object \n",
      " 31  Weather_Conditions                           1027183 non-null  object \n",
      " 32  Year                                         1048575 non-null  int64  \n",
      " 33  InScotland                                   1048532 non-null  object \n",
      "dtypes: float64(9), int64(4), object(21)\n",
      "memory usage: 280.0+ MB\n"
     ]
    }
   ],
   "source": [
    "accident_data.info()"
   ]
  },
  {
   "cell_type": "code",
   "execution_count": 4,
   "id": "f61f565b",
   "metadata": {},
   "outputs": [
    {
     "data": {
      "text/plain": [
       "array(['Friday', 'Thursday', 'Sunday', 'Monday', 'Wednesday', 'Saturday',\n",
       "       'Tuesday'], dtype=object)"
      ]
     },
     "execution_count": 4,
     "metadata": {},
     "output_type": "execute_result"
    }
   ],
   "source": [
    "accident_data.Day_of_Week.unique()"
   ]
  },
  {
   "cell_type": "code",
   "execution_count": 5,
   "id": "1f567d94",
   "metadata": {},
   "outputs": [
    {
     "name": "stdout",
     "output_type": "stream",
     "text": [
      "1048537\n"
     ]
    }
   ],
   "source": [
    "# Removing exact duplicates\n",
    "accident_data.drop(columns=['Accident_Index'], inplace=True, axis=1)\n",
    "remove_data = accident_data.duplicated(keep=False)\n",
    "\n",
    "accident_data = accident_data[~remove_data]\n",
    "print(len(accident_data))"
   ]
  },
  {
   "cell_type": "code",
   "execution_count": 6,
   "id": "bd8d333e",
   "metadata": {},
   "outputs": [
    {
     "data": {
      "text/plain": [
       "Slight     895845\n",
       "Serious    138192\n",
       "Fatal       14500\n",
       "Name: Accident_Severity, dtype: int64"
      ]
     },
     "execution_count": 6,
     "metadata": {},
     "output_type": "execute_result"
    }
   ],
   "source": [
    "accident_data.Accident_Severity.value_counts()"
   ]
  },
  {
   "cell_type": "code",
   "execution_count": 7,
   "id": "6aedf52d",
   "metadata": {},
   "outputs": [],
   "source": [
    "# Removing all garbage values as Nan\n",
    "accident_data['Urban_or_Rural_Area'] = accident_data['Urban_or_Rural_Area'].apply(lambda x : np.nan if x == 'Unallocated' \\\n",
    "                                                                                  else x).copy()\n",
    "accident_data['Light_Conditions'] = accident_data['Light_Conditions'].apply(lambda x :np.nan \\\n",
    "                                                                            if x =='Darkness - lighting unknown' \\\n",
    "                                                                            else x).copy()\n",
    "\n",
    "accident_data['Junction_Control'] = accident_data['Junction_Control'].apply(lambda x :np.nan \\\n",
    "                                                                            if x =='Data missing or out of range' \\\n",
    "                                                                            else x).copy()\n",
    "accident_data['Junction_Detail'] = accident_data['Junction_Detail'].apply(lambda x :np.nan \\\n",
    "                                                                            if x =='Data missing or out of range' \\\n",
    "                                                                            else x).copy()\n",
    "accident_data['2nd_Road_Class'] = accident_data['2nd_Road_Class'].apply(lambda x: np.nan if x == 'Unclassified' else x)\n",
    "\n",
    "# Correcting the misspelled words\n",
    "accident_data['Junction_Control'] = accident_data['Junction_Control'].apply(lambda x :'Auto traffic signal' \\\n",
    "                                                                            if x =='Auto traffic sigl' \\\n",
    "                                                                            else x).copy()\n",
    "accident_data['Special_Conditions_at_Site'] = accident_data['Special_Conditions_at_Site'].apply(lambda x :\\\n",
    "                                                                                                'Auto traffic signal - out' \\\n",
    "                                                                                                if x =='Auto traffic sigl - out' \\\n",
    "                                                                                                else x).copy()\n",
    "accident_data['Special_Conditions_at_Site'] = accident_data['Special_Conditions_at_Site'].apply(lambda x :\\\n",
    "                                                                                                'Auto signal part defective' \\\n",
    "                                                                                                if x =='Auto sigl part defective' \\\n",
    "                                                                                                else x).copy()\n",
    "\n",
    "\n"
   ]
  },
  {
   "cell_type": "code",
   "execution_count": 8,
   "id": "a0dc8c3c",
   "metadata": {},
   "outputs": [
    {
     "data": {
      "text/plain": [
       "((168549, 25), (879988, 25))"
      ]
     },
     "execution_count": 8,
     "metadata": {},
     "output_type": "execute_result"
    }
   ],
   "source": [
    "accident_data.drop(columns=['Local_Authority_(District)', 'Local_Authority_(Highway)', \\\n",
    "                            'Location_Easting_OSGR', 'Location_Northing_OSGR', \\\n",
    "                            '2nd_Road_Number', '1st_Road_Number', 'LSOA_of_Accident_Location', \\\n",
    "                            'Police_Force'], inplace=True, axis = 1)# 'Date', 'Time', 'Year', 'Day_of_Week',\\\n",
    "null_data = accident_data[accident_data.isna().sum(axis=1)>=1].copy()\n",
    "accident_data.drop(list(null_data.index), axis=0, inplace = True)\n",
    "accident_data.shape, null_data.shape"
   ]
  },
  {
   "cell_type": "code",
   "execution_count": 9,
   "id": "b043dbf9",
   "metadata": {},
   "outputs": [],
   "source": [
    "# Converting Date and Time column to datetime object \n",
    "accident_data['Date'] = accident_data.Date.apply(lambda x: dt.datetime.strptime(x,\"%d/%m/%Y\"))\n",
    "accident_data['Time'] = accident_data.Time.apply(lambda x: dt.datetime.strptime(str(x),\"%H:%M\"))\n"
   ]
  },
  {
   "cell_type": "code",
   "execution_count": 10,
   "id": "72f92cad",
   "metadata": {},
   "outputs": [],
   "source": [
    "\n",
    "# Converting time column in a day into 4 parts i.e. Morning - 1, afternoon - 2, evening - 3, night - 0\n",
    "\n",
    "\n",
    "def divideTimeintoPeriod(hour):\n",
    "    if hour < 6:\n",
    "        return 0 # Since its time when morning working period has not yet started in the road thus categorizing it as night\n",
    "    elif hour < 12:\n",
    "        return 1 # As per normal understanding after 12 noon begins \n",
    "    elif hour < 5 :\n",
    "        return 2\n",
    "    elif hour < 8 :\n",
    "        return 3\n",
    "    else:\n",
    "        return 0 # this is the period of night time \n",
    "accident_data['Time_int'] = accident_data.Time.dt.hour.apply(lambda x: divideTimeintoPeriod(x))"
   ]
  },
  {
   "cell_type": "code",
   "execution_count": 11,
   "id": "6b246d0e",
   "metadata": {},
   "outputs": [],
   "source": [
    "accident_data['Month_int'] = pd.DatetimeIndex(accident_data['Date']).month\n",
    "accident_data['Date_int'] = pd.DatetimeIndex(accident_data['Date']).day\n",
    "#accident_data[['Month_int', 'Date_int']].head()"
   ]
  },
  {
   "cell_type": "code",
   "execution_count": 12,
   "id": "fa82a162",
   "metadata": {},
   "outputs": [],
   "source": [
    "def convertweekDaysToNum(day_of_week):\n",
    "    if day_of_week in ['Friday', 'Thursday', 'Monday', 'Wednesday','Tuesday']:\n",
    "        return 0 # Denoting Weekdays\n",
    "    else:\n",
    "        return 1 # Denoting Weekend\n",
    "accident_data['Day_of_Week_int'] = accident_data['Day_of_Week'].apply(lambda x:convertweekDaysToNum(x))\n",
    "accident_data.drop(columns=[\"Date\", \"Time\", 'Day_of_Week',], inplace=True, axis = 1)"
   ]
  },
  {
   "cell_type": "code",
   "execution_count": 13,
   "id": "b7f680ad",
   "metadata": {},
   "outputs": [],
   "source": [
    "cat_columns = []\n",
    "for c in accident_data.columns:\n",
    "    if accident_data[c].dtype=='object':\n",
    "        if c not in ['Accident_Index', 'Accident_Severity', 'Date', 'Time']:\n",
    "            cat_columns.append(c)"
   ]
  },
  {
   "cell_type": "code",
   "execution_count": 14,
   "id": "5b75ecd1",
   "metadata": {},
   "outputs": [],
   "source": [
    "le = preprocessing.LabelEncoder()\n",
    "for c in cat_columns:\n",
    "    accident_data[c+'_int'] = le.fit_transform(accident_data[c])\n",
    "def numerateTheSeverity(acc_severity):\n",
    "    if str(acc_severity).lower() == 'serious':\n",
    "        return 1\n",
    "    elif str(acc_severity).lower() == 'fatal':\n",
    "        return 2\n",
    "    else:\n",
    "        return 0\n",
    "accident_data['Accident_Severity'] = accident_data['Accident_Severity'].apply(lambda x: numerateTheSeverity(x))"
   ]
  },
  {
   "cell_type": "code",
   "execution_count": 15,
   "id": "8e7dece1",
   "metadata": {},
   "outputs": [
    {
     "name": "stdout",
     "output_type": "stream",
     "text": [
      "['Did_Police_Officer_Attend_Scene_of_Accident', 'Latitude', 'Longitude', 'Number_of_Casualties', 'Number_of_Vehicles', 'Pedestrian_Crossing-Human_Control', 'Pedestrian_Crossing-Physical_Facilities', 'Speed_limit', 'Year', 'Time_int', 'Month_int', 'Date_int', 'Day_of_Week_int', '1st_Road_Class_int', '2nd_Road_Class_int', 'Carriageway_Hazards_int', 'Junction_Control_int', 'Junction_Detail_int', 'Light_Conditions_int', 'Road_Surface_Conditions_int', 'Road_Type_int', 'Special_Conditions_at_Site_int', 'Urban_or_Rural_Area_int', 'Weather_Conditions_int', 'InScotland_int']\n"
     ]
    }
   ],
   "source": [
    "training_cols = []\n",
    "for c in accident_data.columns:\n",
    "    if accident_data[c].dtype in ['float64', 'int64', 'int32']:\n",
    "        training_cols.append(c)\n",
    "training_cols.remove('Accident_Severity')\n",
    "#training_cols.extend([\"Date\", \"Time\"])\n",
    "print(training_cols)"
   ]
  },
  {
   "cell_type": "code",
   "execution_count": 33,
   "id": "921fe4af",
   "metadata": {},
   "outputs": [
    {
     "name": "stdout",
     "output_type": "stream",
     "text": [
      "168549 \n",
      " 0    149354\n",
      "1     17828\n",
      "2      1367\n",
      "Name: Accident_Severity, dtype: int64\n"
     ]
    }
   ],
   "source": [
    "X = accident_data[training_cols]\n",
    "Y = accident_data['Accident_Severity']\n",
    "print(len(accident_data),\"\\n\",Y.value_counts())"
   ]
  },
  {
   "cell_type": "code",
   "execution_count": 17,
   "id": "471de1b8",
   "metadata": {},
   "outputs": [],
   "source": [
    "sm = SMOTE(\n",
    "    sampling_strategy='auto',  # samples only the minority class\n",
    "    random_state=0,  # for reproducibility\n",
    "    k_neighbors=5,\n",
    "    n_jobs=4\n",
    ")\n",
    "\n",
    "X_sm, Y_sm = sm.fit_resample(X, Y)\n"
   ]
  },
  {
   "cell_type": "code",
   "execution_count": 18,
   "id": "d9263d55",
   "metadata": {},
   "outputs": [
    {
     "name": "stdout",
     "output_type": "stream",
     "text": [
      "448062 448062\n"
     ]
    }
   ],
   "source": [
    "print(len(X_sm), len(Y_sm))"
   ]
  },
  {
   "cell_type": "code",
   "execution_count": 19,
   "id": "13d65fc7",
   "metadata": {},
   "outputs": [],
   "source": [
    "\n",
    "X_train, X_test, Y_train, Y_test=train_test_split(X_sm, Y_sm,test_size=0.2,random_state=40)\n",
    "# Performing Feature Scaling to the training and testing input data \n",
    "scaler = preprocessing.StandardScaler()\n",
    "X_train_scaled = scaler.fit_transform(X_train)\n",
    "X_test_scaled = scaler.fit_transform(X_test)\n"
   ]
  },
  {
   "cell_type": "code",
   "execution_count": 20,
   "id": "73a6da3e",
   "metadata": {},
   "outputs": [],
   "source": [
    "rfc = RandomForestClassifier(n_estimators=100, criterion='gini')\n",
    "rfc.fit(X_train_scaled, Y_train)\n",
    "Y_pred = rfc.predict(X_test_scaled)\n",
    "rfc_cfmatrix = confusion_matrix(Y_test, Y_pred)\n",
    "rfc_report = classification_report(Y_test, Y_pred)"
   ]
  },
  {
   "cell_type": "code",
   "execution_count": 21,
   "id": "828ce369",
   "metadata": {},
   "outputs": [
    {
     "name": "stdout",
     "output_type": "stream",
     "text": [
      "ACCURACY OF THE MODEL:  0.8516175108522201\n",
      "Balanced accuracy, Random Forest test: 0.85227072988804\n",
      "Recall Score [0.63440717 0.92716227 0.99524275]\n",
      "Confusion Matrix \n",
      " [[19043 10832   142]\n",
      " [ 2093 27775    89]\n",
      " [  108    33 29498]]\n",
      "Classification Report \n",
      "               precision    recall  f1-score   support\n",
      "\n",
      "           0       0.90      0.63      0.74     30017\n",
      "           1       0.72      0.93      0.81     29957\n",
      "           2       0.99      1.00      0.99     29639\n",
      "\n",
      "    accuracy                           0.85     89613\n",
      "   macro avg       0.87      0.85      0.85     89613\n",
      "weighted avg       0.87      0.85      0.85     89613\n",
      "\n"
     ]
    }
   ],
   "source": [
    "print(\"ACCURACY OF THE MODEL: \", metrics.accuracy_score(Y_test, Y_pred))\n",
    "print('Balanced accuracy, Random Forest test:', balanced_accuracy_score(Y_test, Y_pred))\n",
    "print('Recall Score', recall_score(Y_test, Y_pred , average=None))\n",
    "print('Confusion Matrix \\n', rfc_cfmatrix)\n",
    "print('Classification Report \\n', rfc_report)"
   ]
  },
  {
   "cell_type": "code",
   "execution_count": 22,
   "id": "3e7920fa",
   "metadata": {},
   "outputs": [
    {
     "data": {
      "text/plain": [
       "array([[19043, 10832,   142],\n",
       "       [ 2093, 27775,    89],\n",
       "       [  108,    33, 29498]], dtype=int64)"
      ]
     },
     "execution_count": 22,
     "metadata": {},
     "output_type": "execute_result"
    }
   ],
   "source": [
    "rfc_cfmatrix"
   ]
  },
  {
   "cell_type": "code",
   "execution_count": 23,
   "id": "0ababa25",
   "metadata": {},
   "outputs": [],
   "source": [
    "enn = EditedNearestNeighbours(\n",
    "    sampling_strategy='auto',  # undersamples only the majority class\n",
    "    n_neighbors=3, # the number of neighbours to examine\n",
    "    kind_sel='all',  # all neighbours need to have the same label as the observation examined\n",
    "    n_jobs=4)  \n",
    "\n"
   ]
  },
  {
   "cell_type": "code",
   "execution_count": 24,
   "id": "2b3886f5",
   "metadata": {},
   "outputs": [
    {
     "name": "stdout",
     "output_type": "stream",
     "text": [
      "0    149354\n",
      "2    149333\n",
      "1    145965\n",
      "Name: Accident_Severity, dtype: int64\n",
      "444652 444652\n"
     ]
    }
   ],
   "source": [
    "smenn = SMOTEENN(\n",
    "    sampling_strategy='auto',  # samples only the minority class\n",
    "    random_state=0,  # for reproducibility\n",
    "    smote=sm,\n",
    "    enn=enn,\n",
    "    n_jobs=2\n",
    ")\n",
    "\n",
    "X_smenn, Y_smenn = smenn.fit_resample(X, Y)\n",
    "print(Y_smenn.value_counts())\n",
    "print(len(X_smenn), len(Y_smenn))"
   ]
  },
  {
   "cell_type": "code",
   "execution_count": 25,
   "id": "a2f53e5a",
   "metadata": {},
   "outputs": [],
   "source": [
    "X_train, X_test, Y_train, Y_test=train_test_split(X_smenn, Y_smenn,test_size=0.2,random_state=40)\n",
    "# Performing Feature Scaling to the training and testing input data \n",
    "scaler = preprocessing.StandardScaler()\n",
    "X_train_scaled = scaler.fit_transform(X_train)\n",
    "X_test_scaled = scaler.fit_transform(X_test)\n"
   ]
  },
  {
   "cell_type": "code",
   "execution_count": 26,
   "id": "dd5dfa32",
   "metadata": {},
   "outputs": [],
   "source": [
    "rfc = RandomForestClassifier(n_estimators=100, criterion='gini')\n",
    "rfc.fit(X_train_scaled, Y_train)\n",
    "Y_pred = rfc.predict(X_test_scaled)\n",
    "rfc_cfmatrix = confusion_matrix(Y_test, Y_pred)\n",
    "rfc_report = classification_report(Y_test, Y_pred)"
   ]
  },
  {
   "cell_type": "code",
   "execution_count": 27,
   "id": "8d21240f",
   "metadata": {},
   "outputs": [
    {
     "name": "stdout",
     "output_type": "stream",
     "text": [
      "ACCURACY OF THE MODEL:  0.85196388211085\n",
      "Balanced accuracy, Random Forest test: 0.8521864421330121\n",
      "Recall Score [0.63267846 0.92822269 0.99565817]\n",
      "Confusion Matrix \n",
      " [[18807 10794   125]\n",
      " [ 2029 27377    88]\n",
      " [   90    39 29582]]\n",
      "Classification Report \n",
      "               precision    recall  f1-score   support\n",
      "\n",
      "           0       0.90      0.63      0.74     29726\n",
      "           1       0.72      0.93      0.81     29494\n",
      "           2       0.99      1.00      0.99     29711\n",
      "\n",
      "    accuracy                           0.85     88931\n",
      "   macro avg       0.87      0.85      0.85     88931\n",
      "weighted avg       0.87      0.85      0.85     88931\n",
      "\n"
     ]
    }
   ],
   "source": [
    "print(\"ACCURACY OF THE MODEL: \", metrics.accuracy_score(Y_test, Y_pred))\n",
    "print('Balanced accuracy, Random Forest test:', balanced_accuracy_score(Y_test, Y_pred))\n",
    "print('Recall Score', recall_score(Y_test, Y_pred , average=None))\n",
    "print('Confusion Matrix \\n', rfc_cfmatrix)\n",
    "print('Classification Report \\n', rfc_report)"
   ]
  },
  {
   "cell_type": "code",
   "execution_count": null,
   "id": "fefd89c9",
   "metadata": {},
   "outputs": [],
   "source": []
  }
 ],
 "metadata": {
  "kernelspec": {
   "display_name": "Python 3 (ipykernel)",
   "language": "python",
   "name": "python3"
  },
  "language_info": {
   "codemirror_mode": {
    "name": "ipython",
    "version": 3
   },
   "file_extension": ".py",
   "mimetype": "text/x-python",
   "name": "python",
   "nbconvert_exporter": "python",
   "pygments_lexer": "ipython3",
   "version": "3.10.9"
  }
 },
 "nbformat": 4,
 "nbformat_minor": 5
}
